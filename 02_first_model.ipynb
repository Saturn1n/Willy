{
 "cells": [
  {
   "cell_type": "markdown",
   "metadata": {
    "deletable": false,
    "editable": false,
    "run_control": {
     "frozen": true
    }
   },
   "source": [
    "<img src=\"https://datascientest.fr/train/assets/logo_datascientest.png\" style=\"height:150px\">\n",
    "\n",
    "<hr style=\"border-width:2px;border-color:#75DFC1\">\n",
    "<center><h1>Data Challenge Sorbonne</h1></center>\n",
    "<center><h3>Premier modèle</h3></center>\n",
    "<hr style=\"border-width:2px;border-color:#75DFC1\">\n",
    "\n",
    "> L'objectif de ce notebook est de prendre en main les données et d'implémenter un premier modèle simple sur nos données afin de minimiser la métrique évoquée dans le notebook d'introduction.\n",
    "> \n",
    "- La première étape sera alors de charger les fichiers de données que vous venez de télécharger en local."
   ]
  },
  {
   "cell_type": "code",
   "execution_count": 1,
   "metadata": {},
   "outputs": [
    {
     "name": "stderr",
     "output_type": "stream",
     "text": [
      "C:\\Users\\Willy\\AppData\\Local\\Temp\\ipykernel_10128\\3398244250.py:4: DtypeWarning: Columns (1,3,6,7,10,15,16,17) have mixed types. Specify dtype option on import or set low_memory=False.\n",
      "  X_train = pd.read_csv('train_set.csv')\n"
     ]
    },
    {
     "data": {
      "text/html": [
       "<div>\n",
       "<style scoped>\n",
       "    .dataframe tbody tr th:only-of-type {\n",
       "        vertical-align: middle;\n",
       "    }\n",
       "\n",
       "    .dataframe tbody tr th {\n",
       "        vertical-align: top;\n",
       "    }\n",
       "\n",
       "    .dataframe thead th {\n",
       "        text-align: right;\n",
       "    }\n",
       "</style>\n",
       "<table border=\"1\" class=\"dataframe\">\n",
       "  <thead>\n",
       "    <tr style=\"text-align: right;\">\n",
       "      <th></th>\n",
       "      <th>Wind_turbine_name</th>\n",
       "      <th>Pitch_angle</th>\n",
       "      <th>Hub_temperature</th>\n",
       "      <th>Generator_converter_speed</th>\n",
       "      <th>Power</th>\n",
       "      <th>Generator_temp_1</th>\n",
       "      <th>Generator_temp_2</th>\n",
       "      <th>Nacelle_angle</th>\n",
       "      <th>Nacelle_temperature</th>\n",
       "      <th>Wind_direction</th>\n",
       "      <th>Vanne_position_1</th>\n",
       "      <th>Vanne_position_2</th>\n",
       "      <th>Outdoor_temp</th>\n",
       "      <th>Outdoor_temp_min</th>\n",
       "      <th>Outdoor_temp_max</th>\n",
       "      <th>Grid_frequency</th>\n",
       "      <th>Grid_voltage</th>\n",
       "      <th>Rotor_temp</th>\n",
       "      <th>wind_direction_corrected</th>\n",
       "      <th>date</th>\n",
       "    </tr>\n",
       "  </thead>\n",
       "  <tbody>\n",
       "    <tr>\n",
       "      <th>0</th>\n",
       "      <td>R80711</td>\n",
       "      <td>-0.991667</td>\n",
       "      <td>12.650000</td>\n",
       "      <td>7.528333</td>\n",
       "      <td>1177.314967</td>\n",
       "      <td>38.430000</td>\n",
       "      <td>38.495000833333336</td>\n",
       "      <td>168.921663</td>\n",
       "      <td>17.480000</td>\n",
       "      <td>170.735000</td>\n",
       "      <td>NaN</td>\n",
       "      <td>NaN</td>\n",
       "      <td>5.538333</td>\n",
       "      <td>5.416667</td>\n",
       "      <td>5.683333</td>\n",
       "      <td>49.988334</td>\n",
       "      <td>711.461668</td>\n",
       "      <td>28.755001</td>\n",
       "      <td>185.735000</td>\n",
       "      <td>2012-12-31 23:00:00+01:00</td>\n",
       "    </tr>\n",
       "    <tr>\n",
       "      <th>1</th>\n",
       "      <td>R80711</td>\n",
       "      <td>-0.996667</td>\n",
       "      <td>12.393333</td>\n",
       "      <td>8.426667</td>\n",
       "      <td>1200.676667</td>\n",
       "      <td>35.816668</td>\n",
       "      <td>37.55333383333333</td>\n",
       "      <td>177.89999</td>\n",
       "      <td>17.075000</td>\n",
       "      <td>172.179998</td>\n",
       "      <td>NaN</td>\n",
       "      <td>NaN</td>\n",
       "      <td>5.790000</td>\n",
       "      <td>5.616667</td>\n",
       "      <td>5.816667</td>\n",
       "      <td>50.003332</td>\n",
       "      <td>711.318338</td>\n",
       "      <td>28.516667</td>\n",
       "      <td>187.179998</td>\n",
       "      <td>2013-01-01 00:00:00+01:00</td>\n",
       "    </tr>\n",
       "    <tr>\n",
       "      <th>2</th>\n",
       "      <td>R80711</td>\n",
       "      <td>-0.996667</td>\n",
       "      <td>12.168333</td>\n",
       "      <td>18.873333</td>\n",
       "      <td>1092.826665</td>\n",
       "      <td>36.083334</td>\n",
       "      <td>37.934999499999996</td>\n",
       "      <td>177.89999</td>\n",
       "      <td>17.175000</td>\n",
       "      <td>179.484998</td>\n",
       "      <td>NaN</td>\n",
       "      <td>NaN</td>\n",
       "      <td>5.893333</td>\n",
       "      <td>5.766667</td>\n",
       "      <td>6.000000</td>\n",
       "      <td>50.006666</td>\n",
       "      <td>713.013337</td>\n",
       "      <td>28.403334</td>\n",
       "      <td>194.484998</td>\n",
       "      <td>2013-01-01 01:00:00+01:00</td>\n",
       "    </tr>\n",
       "    <tr>\n",
       "      <th>3</th>\n",
       "      <td>R80711</td>\n",
       "      <td>-0.973333</td>\n",
       "      <td>12.088333</td>\n",
       "      <td>20.88</td>\n",
       "      <td>1080.954980</td>\n",
       "      <td>38.886667</td>\n",
       "      <td>38.863334</td>\n",
       "      <td>177.89999</td>\n",
       "      <td>16.761666</td>\n",
       "      <td>177.995000</td>\n",
       "      <td>NaN</td>\n",
       "      <td>NaN</td>\n",
       "      <td>5.325000</td>\n",
       "      <td>5.183333</td>\n",
       "      <td>5.483333</td>\n",
       "      <td>50.003333</td>\n",
       "      <td>706.32</td>\n",
       "      <td>28.513334</td>\n",
       "      <td>192.995000</td>\n",
       "      <td>2013-01-01 02:00:00+01:00</td>\n",
       "    </tr>\n",
       "    <tr>\n",
       "      <th>4</th>\n",
       "      <td>R80711</td>\n",
       "      <td>-0.71</td>\n",
       "      <td>12.331667</td>\n",
       "      <td>15.95</td>\n",
       "      <td>1351.328317</td>\n",
       "      <td>35.290000</td>\n",
       "      <td>37.084999833333335</td>\n",
       "      <td>175.903325</td>\n",
       "      <td>14.630000</td>\n",
       "      <td>169.683332</td>\n",
       "      <td>NaN</td>\n",
       "      <td>NaN</td>\n",
       "      <td>4.648333</td>\n",
       "      <td>4.533333</td>\n",
       "      <td>4.716667</td>\n",
       "      <td>50.0</td>\n",
       "      <td>709.16333</td>\n",
       "      <td>28.084779</td>\n",
       "      <td>184.683332</td>\n",
       "      <td>2013-01-01 03:00:00+01:00</td>\n",
       "    </tr>\n",
       "  </tbody>\n",
       "</table>\n",
       "</div>"
      ],
      "text/plain": [
       "  Wind_turbine_name Pitch_angle  Hub_temperature Generator_converter_speed  \\\n",
       "0            R80711   -0.991667        12.650000                  7.528333   \n",
       "1            R80711   -0.996667        12.393333                  8.426667   \n",
       "2            R80711   -0.996667        12.168333                 18.873333   \n",
       "3            R80711   -0.973333        12.088333                     20.88   \n",
       "4            R80711       -0.71        12.331667                     15.95   \n",
       "\n",
       "         Power  Generator_temp_1    Generator_temp_2 Nacelle_angle  \\\n",
       "0  1177.314967         38.430000  38.495000833333336    168.921663   \n",
       "1  1200.676667         35.816668   37.55333383333333     177.89999   \n",
       "2  1092.826665         36.083334  37.934999499999996     177.89999   \n",
       "3  1080.954980         38.886667           38.863334     177.89999   \n",
       "4  1351.328317         35.290000  37.084999833333335    175.903325   \n",
       "\n",
       "   Nacelle_temperature  Wind_direction Vanne_position_1  Vanne_position_2  \\\n",
       "0            17.480000      170.735000              NaN               NaN   \n",
       "1            17.075000      172.179998              NaN               NaN   \n",
       "2            17.175000      179.484998              NaN               NaN   \n",
       "3            16.761666      177.995000              NaN               NaN   \n",
       "4            14.630000      169.683332              NaN               NaN   \n",
       "\n",
       "   Outdoor_temp  Outdoor_temp_min  Outdoor_temp_max Grid_frequency  \\\n",
       "0      5.538333          5.416667          5.683333      49.988334   \n",
       "1      5.790000          5.616667          5.816667      50.003332   \n",
       "2      5.893333          5.766667          6.000000      50.006666   \n",
       "3      5.325000          5.183333          5.483333      50.003333   \n",
       "4      4.648333          4.533333          4.716667           50.0   \n",
       "\n",
       "  Grid_voltage Rotor_temp  wind_direction_corrected                       date  \n",
       "0   711.461668  28.755001                185.735000  2012-12-31 23:00:00+01:00  \n",
       "1   711.318338  28.516667                187.179998  2013-01-01 00:00:00+01:00  \n",
       "2   713.013337  28.403334                194.484998  2013-01-01 01:00:00+01:00  \n",
       "3       706.32  28.513334                192.995000  2013-01-01 02:00:00+01:00  \n",
       "4    709.16333  28.084779                184.683332  2013-01-01 03:00:00+01:00  "
      ]
     },
     "execution_count": 1,
     "metadata": {},
     "output_type": "execute_result"
    }
   ],
   "source": [
    "## Insérez votre code ici\n",
    "import pandas as pd\n",
    "\n",
    "X_train = pd.read_csv('train_set.csv')\n",
    "X_test = pd.read_csv('test_set.csv')\n",
    "infos = pd.read_csv('static_desc.csv')\n",
    "X_train.head()"
   ]
  },
  {
   "cell_type": "code",
   "execution_count": null,
   "metadata": {
    "deletable": false,
    "editable": false,
    "run_control": {
     "frozen": true
    }
   },
   "outputs": [],
   "source": [
    "# Solution\n",
    "\n",
    "import pandas as pd\n",
    "\n",
    "train = pd.read_csv('path_or_buffer.csv')\n",
    "\n",
    "infos = pd.read_csv('path_or_buffer.csv')"
   ]
  },
  {
   "cell_type": "markdown",
   "metadata": {
    "deletable": false,
    "editable": false,
    "run_control": {
     "frozen": true
    }
   },
   "source": [
    "> L'une des premières que l'on peut mener sur ces jeux de données est de vérifier les premières informations afin d'avoir : \n",
    "\n",
    "\n",
    "- Le nombre d'observations\n",
    "- Le type des variables\n",
    "- Le nombre de valeurs manquantes \n",
    "- Le nombre de doublons"
   ]
  },
  {
   "cell_type": "code",
   "execution_count": 2,
   "metadata": {},
   "outputs": [
    {
     "name": "stdout",
     "output_type": "stream",
     "text": [
      "<class 'pandas.core.frame.DataFrame'>\n",
      "RangeIndex: 123520 entries, 0 to 123519\n",
      "Data columns (total 20 columns):\n",
      " #   Column                     Non-Null Count   Dtype  \n",
      "---  ------                     --------------   -----  \n",
      " 0   Wind_turbine_name          122737 non-null  object \n",
      " 1   Pitch_angle                121751 non-null  object \n",
      " 2   Hub_temperature            122716 non-null  float64\n",
      " 3   Generator_converter_speed  122707 non-null  object \n",
      " 4   Power                      123520 non-null  float64\n",
      " 5   Generator_temp_1           122715 non-null  float64\n",
      " 6   Generator_temp_2           122721 non-null  object \n",
      " 7   Nacelle_angle              122705 non-null  object \n",
      " 8   Nacelle_temperature        123520 non-null  float64\n",
      " 9   Wind_direction             122735 non-null  float64\n",
      " 10  Vanne_position_1           1 non-null       object \n",
      " 11  Vanne_position_2           0 non-null       float64\n",
      " 12  Outdoor_temp               122704 non-null  float64\n",
      " 13  Outdoor_temp_min           122735 non-null  float64\n",
      " 14  Outdoor_temp_max           122729 non-null  float64\n",
      " 15  Grid_frequency             122692 non-null  object \n",
      " 16  Grid_voltage               122760 non-null  object \n",
      " 17  Rotor_temp                 122729 non-null  object \n",
      " 18  wind_direction_corrected   123520 non-null  float64\n",
      " 19  date                       120268 non-null  object \n",
      "dtypes: float64(10), object(10)\n",
      "memory usage: 18.8+ MB\n"
     ]
    }
   ],
   "source": [
    "## Insérez votre code ici\n",
    "X_train.info()"
   ]
  },
  {
   "cell_type": "code",
   "execution_count": 4,
   "metadata": {},
   "outputs": [],
   "source": [
    "import numpy as np"
   ]
  },
  {
   "cell_type": "code",
   "execution_count": 5,
   "metadata": {},
   "outputs": [],
   "source": [
    "cols = ['Pitch_angle', 'Generator_converter_speed', 'Generator_temp_2', 'Nacelle_angle', \n",
    "         'Grid_frequency', 'Grid_voltage', 'Rotor_temp' ]\n",
    "\n",
    "X_train[cols] = X_train[cols].replace('Error', np.nan)\n",
    "X_train[cols] = X_train[cols].astype(float)"
   ]
  },
  {
   "cell_type": "code",
   "execution_count": 29,
   "metadata": {},
   "outputs": [
    {
     "data": {
      "text/html": [
       "<div>\n",
       "<style scoped>\n",
       "    .dataframe tbody tr th:only-of-type {\n",
       "        vertical-align: middle;\n",
       "    }\n",
       "\n",
       "    .dataframe tbody tr th {\n",
       "        vertical-align: top;\n",
       "    }\n",
       "\n",
       "    .dataframe thead th {\n",
       "        text-align: right;\n",
       "    }\n",
       "</style>\n",
       "<table border=\"1\" class=\"dataframe\">\n",
       "  <thead>\n",
       "    <tr style=\"text-align: right;\">\n",
       "      <th></th>\n",
       "      <th>Pitch_angle</th>\n",
       "      <th>Hub_temperature</th>\n",
       "      <th>Generator_converter_speed</th>\n",
       "      <th>Power</th>\n",
       "      <th>Generator_temp_1</th>\n",
       "      <th>Generator_temp_2</th>\n",
       "      <th>Nacelle_angle</th>\n",
       "      <th>Nacelle_temperature</th>\n",
       "      <th>Wind_direction</th>\n",
       "      <th>Vanne_position_2</th>\n",
       "      <th>Outdoor_temp</th>\n",
       "      <th>Outdoor_temp_min</th>\n",
       "      <th>Outdoor_temp_max</th>\n",
       "      <th>Grid_frequency</th>\n",
       "      <th>Grid_voltage</th>\n",
       "      <th>Rotor_temp</th>\n",
       "      <th>wind_direction_corrected</th>\n",
       "    </tr>\n",
       "  </thead>\n",
       "  <tbody>\n",
       "    <tr>\n",
       "      <th>count</th>\n",
       "      <td>121750.000000</td>\n",
       "      <td>122716.000000</td>\n",
       "      <td>122706.000000</td>\n",
       "      <td>123520.000000</td>\n",
       "      <td>122715.000000</td>\n",
       "      <td>122720.000000</td>\n",
       "      <td>122704.000000</td>\n",
       "      <td>123520.000000</td>\n",
       "      <td>122735.000000</td>\n",
       "      <td>0.0</td>\n",
       "      <td>122704.000000</td>\n",
       "      <td>122735.000000</td>\n",
       "      <td>122729.000000</td>\n",
       "      <td>122691.000000</td>\n",
       "      <td>122759.000000</td>\n",
       "      <td>122728.000000</td>\n",
       "      <td>123520.000000</td>\n",
       "    </tr>\n",
       "    <tr>\n",
       "      <th>mean</th>\n",
       "      <td>14.204850</td>\n",
       "      <td>19.118791</td>\n",
       "      <td>59.745551</td>\n",
       "      <td>344.607700</td>\n",
       "      <td>38.971438</td>\n",
       "      <td>35.628474</td>\n",
       "      <td>180.812362</td>\n",
       "      <td>24.142573</td>\n",
       "      <td>179.000702</td>\n",
       "      <td>NaN</td>\n",
       "      <td>11.828173</td>\n",
       "      <td>11.637538</td>\n",
       "      <td>12.024213</td>\n",
       "      <td>49.984540</td>\n",
       "      <td>699.411777</td>\n",
       "      <td>27.068335</td>\n",
       "      <td>178.384366</td>\n",
       "    </tr>\n",
       "    <tr>\n",
       "      <th>std</th>\n",
       "      <td>28.033911</td>\n",
       "      <td>6.030341</td>\n",
       "      <td>53.192596</td>\n",
       "      <td>417.283795</td>\n",
       "      <td>7.833266</td>\n",
       "      <td>7.376226</td>\n",
       "      <td>92.005978</td>\n",
       "      <td>6.229747</td>\n",
       "      <td>88.276268</td>\n",
       "      <td>NaN</td>\n",
       "      <td>7.685553</td>\n",
       "      <td>7.630138</td>\n",
       "      <td>7.747510</td>\n",
       "      <td>0.346850</td>\n",
       "      <td>6.337330</td>\n",
       "      <td>6.345221</td>\n",
       "      <td>86.593831</td>\n",
       "    </tr>\n",
       "    <tr>\n",
       "      <th>min</th>\n",
       "      <td>-121.260000</td>\n",
       "      <td>0.000000</td>\n",
       "      <td>0.000000</td>\n",
       "      <td>0.000000</td>\n",
       "      <td>-273.200010</td>\n",
       "      <td>-273.200010</td>\n",
       "      <td>0.000000</td>\n",
       "      <td>-273.200010</td>\n",
       "      <td>0.000000</td>\n",
       "      <td>NaN</td>\n",
       "      <td>-273.200010</td>\n",
       "      <td>-273.200010</td>\n",
       "      <td>-273.200010</td>\n",
       "      <td>0.000000</td>\n",
       "      <td>0.000000</td>\n",
       "      <td>-273.200010</td>\n",
       "      <td>0.000000</td>\n",
       "    </tr>\n",
       "    <tr>\n",
       "      <th>25%</th>\n",
       "      <td>-0.990000</td>\n",
       "      <td>14.033333</td>\n",
       "      <td>17.351666</td>\n",
       "      <td>34.915000</td>\n",
       "      <td>36.685500</td>\n",
       "      <td>33.376667</td>\n",
       "      <td>105.610000</td>\n",
       "      <td>20.531667</td>\n",
       "      <td>107.909167</td>\n",
       "      <td>NaN</td>\n",
       "      <td>5.996667</td>\n",
       "      <td>5.858333</td>\n",
       "      <td>6.150000</td>\n",
       "      <td>49.986667</td>\n",
       "      <td>696.726675</td>\n",
       "      <td>23.996667</td>\n",
       "      <td>110.894583</td>\n",
       "    </tr>\n",
       "    <tr>\n",
       "      <th>50%</th>\n",
       "      <td>-0.910000</td>\n",
       "      <td>19.000000</td>\n",
       "      <td>46.930000</td>\n",
       "      <td>191.669167</td>\n",
       "      <td>40.768334</td>\n",
       "      <td>36.847500</td>\n",
       "      <td>196.722498</td>\n",
       "      <td>24.368333</td>\n",
       "      <td>193.861667</td>\n",
       "      <td>NaN</td>\n",
       "      <td>11.600000</td>\n",
       "      <td>11.433333</td>\n",
       "      <td>11.783333</td>\n",
       "      <td>49.991668</td>\n",
       "      <td>699.385000</td>\n",
       "      <td>27.751667</td>\n",
       "      <td>188.504166</td>\n",
       "    </tr>\n",
       "    <tr>\n",
       "      <th>75%</th>\n",
       "      <td>15.587500</td>\n",
       "      <td>23.310417</td>\n",
       "      <td>89.869999</td>\n",
       "      <td>489.346248</td>\n",
       "      <td>43.816667</td>\n",
       "      <td>39.988334</td>\n",
       "      <td>247.558751</td>\n",
       "      <td>28.176667</td>\n",
       "      <td>242.993337</td>\n",
       "      <td>NaN</td>\n",
       "      <td>16.942083</td>\n",
       "      <td>16.725000</td>\n",
       "      <td>17.150000</td>\n",
       "      <td>49.998334</td>\n",
       "      <td>702.124995</td>\n",
       "      <td>31.065000</td>\n",
       "      <td>240.915831</td>\n",
       "    </tr>\n",
       "    <tr>\n",
       "      <th>max</th>\n",
       "      <td>158.808329</td>\n",
       "      <td>38.000000</td>\n",
       "      <td>454.356665</td>\n",
       "      <td>2058.763333</td>\n",
       "      <td>64.351667</td>\n",
       "      <td>60.705000</td>\n",
       "      <td>360.000000</td>\n",
       "      <td>42.623334</td>\n",
       "      <td>359.161662</td>\n",
       "      <td>NaN</td>\n",
       "      <td>38.536666</td>\n",
       "      <td>37.625001</td>\n",
       "      <td>39.416667</td>\n",
       "      <td>50.075000</td>\n",
       "      <td>728.398335</td>\n",
       "      <td>46.061667</td>\n",
       "      <td>359.513330</td>\n",
       "    </tr>\n",
       "  </tbody>\n",
       "</table>\n",
       "</div>"
      ],
      "text/plain": [
       "         Pitch_angle  Hub_temperature  Generator_converter_speed  \\\n",
       "count  121750.000000    122716.000000              122706.000000   \n",
       "mean       14.204850        19.118791                  59.745551   \n",
       "std        28.033911         6.030341                  53.192596   \n",
       "min      -121.260000         0.000000                   0.000000   \n",
       "25%        -0.990000        14.033333                  17.351666   \n",
       "50%        -0.910000        19.000000                  46.930000   \n",
       "75%        15.587500        23.310417                  89.869999   \n",
       "max       158.808329        38.000000                 454.356665   \n",
       "\n",
       "               Power  Generator_temp_1  Generator_temp_2  Nacelle_angle  \\\n",
       "count  123520.000000     122715.000000     122720.000000  122704.000000   \n",
       "mean      344.607700         38.971438         35.628474     180.812362   \n",
       "std       417.283795          7.833266          7.376226      92.005978   \n",
       "min         0.000000       -273.200010       -273.200010       0.000000   \n",
       "25%        34.915000         36.685500         33.376667     105.610000   \n",
       "50%       191.669167         40.768334         36.847500     196.722498   \n",
       "75%       489.346248         43.816667         39.988334     247.558751   \n",
       "max      2058.763333         64.351667         60.705000     360.000000   \n",
       "\n",
       "       Nacelle_temperature  Wind_direction  Vanne_position_2   Outdoor_temp  \\\n",
       "count        123520.000000   122735.000000               0.0  122704.000000   \n",
       "mean             24.142573      179.000702               NaN      11.828173   \n",
       "std               6.229747       88.276268               NaN       7.685553   \n",
       "min            -273.200010        0.000000               NaN    -273.200010   \n",
       "25%              20.531667      107.909167               NaN       5.996667   \n",
       "50%              24.368333      193.861667               NaN      11.600000   \n",
       "75%              28.176667      242.993337               NaN      16.942083   \n",
       "max              42.623334      359.161662               NaN      38.536666   \n",
       "\n",
       "       Outdoor_temp_min  Outdoor_temp_max  Grid_frequency   Grid_voltage  \\\n",
       "count     122735.000000     122729.000000   122691.000000  122759.000000   \n",
       "mean          11.637538         12.024213       49.984540     699.411777   \n",
       "std            7.630138          7.747510        0.346850       6.337330   \n",
       "min         -273.200010       -273.200010        0.000000       0.000000   \n",
       "25%            5.858333          6.150000       49.986667     696.726675   \n",
       "50%           11.433333         11.783333       49.991668     699.385000   \n",
       "75%           16.725000         17.150000       49.998334     702.124995   \n",
       "max           37.625001         39.416667       50.075000     728.398335   \n",
       "\n",
       "          Rotor_temp  wind_direction_corrected  \n",
       "count  122728.000000             123520.000000  \n",
       "mean       27.068335                178.384366  \n",
       "std         6.345221                 86.593831  \n",
       "min      -273.200010                  0.000000  \n",
       "25%        23.996667                110.894583  \n",
       "50%        27.751667                188.504166  \n",
       "75%        31.065000                240.915831  \n",
       "max        46.061667                359.513330  "
      ]
     },
     "execution_count": 29,
     "metadata": {},
     "output_type": "execute_result"
    }
   ],
   "source": [
    "X_train.describe()"
   ]
  },
  {
   "cell_type": "code",
   "execution_count": null,
   "metadata": {
    "deletable": false,
    "editable": false,
    "run_control": {
     "frozen": true
    }
   },
   "outputs": [],
   "source": [
    "# Solution\n",
    "\n",
    "display(df.info())\n",
    "\n",
    "display(infos.info())"
   ]
  },
  {
   "cell_type": "markdown",
   "metadata": {
    "deletable": false,
    "editable": false,
    "run_control": {
     "frozen": true
    }
   },
   "source": [
    "> Nous pouvons alors mettre en évidence plusieurs éléments :\n",
    "\n",
    "- Certaines variables ne sont pas du bon type, selon la description donnée dans le notebook d'introduction. L'une des premières étapes pourrait être de traiter ces variables.\n",
    "- L'idée pourrait alors être alors de supprimer ces variables."
   ]
  },
  {
   "cell_type": "code",
   "execution_count": 6,
   "metadata": {},
   "outputs": [],
   "source": [
    "## Insérez votre code ici\n",
    "X_train = X_train.drop(['Vanne_position_1', 'Vanne_position_2'], axis=1)"
   ]
  },
  {
   "cell_type": "code",
   "execution_count": null,
   "metadata": {
    "deletable": false,
    "editable": false,
    "run_control": {
     "frozen": true
    }
   },
   "outputs": [],
   "source": [
    "# Solution\n",
    "\n",
    "df = df.drop(['columns'], axis=1)"
   ]
  },
  {
   "cell_type": "markdown",
   "metadata": {
    "deletable": false,
    "editable": false,
    "run_control": {
     "frozen": true
    }
   },
   "source": [
    "> Nous remarquons également la présence de valeurs manquantes dans le dataset. \n",
    "\n",
    "- Encore une fois pour simplifer notre analyse, l'idée serait de supprimer les variables ayant plus de 25% de valeurs manquantes et de remplacer les restantes par le **mode** ou la **moyenne/médiane**. "
   ]
  },
  {
   "cell_type": "code",
   "execution_count": 7,
   "metadata": {
    "scrolled": true,
    "slideshow": {
     "slide_type": "slide"
    }
   },
   "outputs": [
    {
     "name": "stderr",
     "output_type": "stream",
     "text": [
      "C:\\Users\\Willy\\AppData\\Local\\Temp\\ipykernel_10128\\1638557994.py:2: FutureWarning: Dropping of nuisance columns in DataFrame reductions (with 'numeric_only=None') is deprecated; in a future version this will raise TypeError.  Select only valid columns before calling the reduction.\n",
      "  X_train = X_train.fillna(X_train.mean())\n"
     ]
    }
   ],
   "source": [
    "## Insérez votre code ici\n",
    "X_train = X_train.fillna(X_train.mean())"
   ]
  },
  {
   "cell_type": "code",
   "execution_count": 8,
   "metadata": {},
   "outputs": [],
   "source": [
    "X_train['Wind_turbine_name'] = X_train['Wind_turbine_name'].fillna(X_train['Wind_turbine_name'].mode()[0])\n",
    "X_train['date'] = X_train['date'].fillna(X_train['date'].mode()[0])"
   ]
  },
  {
   "cell_type": "code",
   "execution_count": null,
   "metadata": {
    "deletable": false,
    "editable": false,
    "run_control": {
     "frozen": true
    }
   },
   "outputs": [],
   "source": [
    "df = df.drop(['columns'], axis=1)\n",
    "\n",
    "df = df.fillna(df.mean())"
   ]
  },
  {
   "cell_type": "code",
   "execution_count": 9,
   "metadata": {},
   "outputs": [
    {
     "data": {
      "text/plain": [
       "Wind_turbine_name            0\n",
       "Pitch_angle                  0\n",
       "Hub_temperature              0\n",
       "Generator_converter_speed    0\n",
       "Power                        0\n",
       "Generator_temp_1             0\n",
       "Generator_temp_2             0\n",
       "Nacelle_angle                0\n",
       "Nacelle_temperature          0\n",
       "Wind_direction               0\n",
       "Outdoor_temp                 0\n",
       "Outdoor_temp_min             0\n",
       "Outdoor_temp_max             0\n",
       "Grid_frequency               0\n",
       "Grid_voltage                 0\n",
       "Rotor_temp                   0\n",
       "wind_direction_corrected     0\n",
       "date                         0\n",
       "dtype: int64"
      ]
     },
     "execution_count": 9,
     "metadata": {},
     "output_type": "execute_result"
    }
   ],
   "source": [
    "X_train.isna().sum()"
   ]
  },
  {
   "cell_type": "markdown",
   "metadata": {
    "deletable": false,
    "editable": false,
    "run_control": {
     "frozen": true
    }
   },
   "source": [
    "> Maintenant que nous avons des jeux de données propores, nous pouvons les relier. "
   ]
  },
  {
   "cell_type": "code",
   "execution_count": 10,
   "metadata": {},
   "outputs": [],
   "source": [
    "## Insérez votre code ici\n",
    "df_train = pd.merge(X_train, infos, on='Wind_turbine_name')\n"
   ]
  },
  {
   "cell_type": "code",
   "execution_count": 11,
   "metadata": {},
   "outputs": [
    {
     "data": {
      "text/html": [
       "<div>\n",
       "<style scoped>\n",
       "    .dataframe tbody tr th:only-of-type {\n",
       "        vertical-align: middle;\n",
       "    }\n",
       "\n",
       "    .dataframe tbody tr th {\n",
       "        vertical-align: top;\n",
       "    }\n",
       "\n",
       "    .dataframe thead th {\n",
       "        text-align: right;\n",
       "    }\n",
       "</style>\n",
       "<table border=\"1\" class=\"dataframe\">\n",
       "  <thead>\n",
       "    <tr style=\"text-align: right;\">\n",
       "      <th></th>\n",
       "      <th>Wind_turbine_name</th>\n",
       "      <th>Pitch_angle</th>\n",
       "      <th>Hub_temperature</th>\n",
       "      <th>Generator_converter_speed</th>\n",
       "      <th>Power</th>\n",
       "      <th>Generator_temp_1</th>\n",
       "      <th>Generator_temp_2</th>\n",
       "      <th>Nacelle_angle</th>\n",
       "      <th>Nacelle_temperature</th>\n",
       "      <th>Wind_direction</th>\n",
       "      <th>...</th>\n",
       "      <th>Model</th>\n",
       "      <th>Hub height (m)</th>\n",
       "      <th>Rotor diameter (m)</th>\n",
       "      <th>GPS</th>\n",
       "      <th>Altitude (m)</th>\n",
       "      <th>Department</th>\n",
       "      <th>Region</th>\n",
       "      <th>Length of blades (m)</th>\n",
       "      <th>Weight (tons)</th>\n",
       "      <th>Rotor surface (m2)</th>\n",
       "    </tr>\n",
       "  </thead>\n",
       "  <tbody>\n",
       "    <tr>\n",
       "      <th>0</th>\n",
       "      <td>R80711</td>\n",
       "      <td>-0.991667</td>\n",
       "      <td>12.650000</td>\n",
       "      <td>7.528333</td>\n",
       "      <td>1177.314967</td>\n",
       "      <td>38.430000</td>\n",
       "      <td>38.495001</td>\n",
       "      <td>168.921663</td>\n",
       "      <td>17.480000</td>\n",
       "      <td>170.735000</td>\n",
       "      <td>...</td>\n",
       "      <td>NVP</td>\n",
       "      <td>105</td>\n",
       "      <td>82</td>\n",
       "      <td>48.4569,5.5847</td>\n",
       "      <td>400.0</td>\n",
       "      <td>Meuse</td>\n",
       "      <td>Grand Est</td>\n",
       "      <td>50</td>\n",
       "      <td>150</td>\n",
       "      <td>6.348</td>\n",
       "    </tr>\n",
       "    <tr>\n",
       "      <th>1</th>\n",
       "      <td>R80711</td>\n",
       "      <td>-0.996667</td>\n",
       "      <td>12.393333</td>\n",
       "      <td>8.426667</td>\n",
       "      <td>1200.676667</td>\n",
       "      <td>35.816668</td>\n",
       "      <td>37.553334</td>\n",
       "      <td>177.899990</td>\n",
       "      <td>17.075000</td>\n",
       "      <td>172.179998</td>\n",
       "      <td>...</td>\n",
       "      <td>NVP</td>\n",
       "      <td>105</td>\n",
       "      <td>82</td>\n",
       "      <td>48.4569,5.5847</td>\n",
       "      <td>400.0</td>\n",
       "      <td>Meuse</td>\n",
       "      <td>Grand Est</td>\n",
       "      <td>50</td>\n",
       "      <td>150</td>\n",
       "      <td>6.348</td>\n",
       "    </tr>\n",
       "    <tr>\n",
       "      <th>2</th>\n",
       "      <td>R80711</td>\n",
       "      <td>-0.996667</td>\n",
       "      <td>12.168333</td>\n",
       "      <td>18.873333</td>\n",
       "      <td>1092.826665</td>\n",
       "      <td>36.083334</td>\n",
       "      <td>37.934999</td>\n",
       "      <td>177.899990</td>\n",
       "      <td>17.175000</td>\n",
       "      <td>179.484998</td>\n",
       "      <td>...</td>\n",
       "      <td>NVP</td>\n",
       "      <td>105</td>\n",
       "      <td>82</td>\n",
       "      <td>48.4569,5.5847</td>\n",
       "      <td>400.0</td>\n",
       "      <td>Meuse</td>\n",
       "      <td>Grand Est</td>\n",
       "      <td>50</td>\n",
       "      <td>150</td>\n",
       "      <td>6.348</td>\n",
       "    </tr>\n",
       "    <tr>\n",
       "      <th>3</th>\n",
       "      <td>R80711</td>\n",
       "      <td>-0.973333</td>\n",
       "      <td>12.088333</td>\n",
       "      <td>20.880000</td>\n",
       "      <td>1080.954980</td>\n",
       "      <td>38.886667</td>\n",
       "      <td>38.863334</td>\n",
       "      <td>177.899990</td>\n",
       "      <td>16.761666</td>\n",
       "      <td>177.995000</td>\n",
       "      <td>...</td>\n",
       "      <td>NVP</td>\n",
       "      <td>105</td>\n",
       "      <td>82</td>\n",
       "      <td>48.4569,5.5847</td>\n",
       "      <td>400.0</td>\n",
       "      <td>Meuse</td>\n",
       "      <td>Grand Est</td>\n",
       "      <td>50</td>\n",
       "      <td>150</td>\n",
       "      <td>6.348</td>\n",
       "    </tr>\n",
       "    <tr>\n",
       "      <th>4</th>\n",
       "      <td>R80711</td>\n",
       "      <td>-0.710000</td>\n",
       "      <td>12.331667</td>\n",
       "      <td>15.950000</td>\n",
       "      <td>1351.328317</td>\n",
       "      <td>35.290000</td>\n",
       "      <td>37.085000</td>\n",
       "      <td>175.903325</td>\n",
       "      <td>14.630000</td>\n",
       "      <td>169.683332</td>\n",
       "      <td>...</td>\n",
       "      <td>NVP</td>\n",
       "      <td>105</td>\n",
       "      <td>82</td>\n",
       "      <td>48.4569,5.5847</td>\n",
       "      <td>400.0</td>\n",
       "      <td>Meuse</td>\n",
       "      <td>Grand Est</td>\n",
       "      <td>50</td>\n",
       "      <td>150</td>\n",
       "      <td>6.348</td>\n",
       "    </tr>\n",
       "    <tr>\n",
       "      <th>...</th>\n",
       "      <td>...</td>\n",
       "      <td>...</td>\n",
       "      <td>...</td>\n",
       "      <td>...</td>\n",
       "      <td>...</td>\n",
       "      <td>...</td>\n",
       "      <td>...</td>\n",
       "      <td>...</td>\n",
       "      <td>...</td>\n",
       "      <td>...</td>\n",
       "      <td>...</td>\n",
       "      <td>...</td>\n",
       "      <td>...</td>\n",
       "      <td>...</td>\n",
       "      <td>...</td>\n",
       "      <td>...</td>\n",
       "      <td>...</td>\n",
       "      <td>...</td>\n",
       "      <td>...</td>\n",
       "      <td>...</td>\n",
       "      <td>...</td>\n",
       "    </tr>\n",
       "    <tr>\n",
       "      <th>123515</th>\n",
       "      <td>R80736</td>\n",
       "      <td>-0.978333</td>\n",
       "      <td>26.043333</td>\n",
       "      <td>195.215000</td>\n",
       "      <td>447.381663</td>\n",
       "      <td>40.498333</td>\n",
       "      <td>38.661666</td>\n",
       "      <td>241.820002</td>\n",
       "      <td>29.211667</td>\n",
       "      <td>236.643335</td>\n",
       "      <td>...</td>\n",
       "      <td>MM82</td>\n",
       "      <td>82</td>\n",
       "      <td>90</td>\n",
       "      <td>48.4461,5.5925</td>\n",
       "      <td>411.0</td>\n",
       "      <td>Meuse</td>\n",
       "      <td>Grand Est</td>\n",
       "      <td>46</td>\n",
       "      <td>128</td>\n",
       "      <td>5.281</td>\n",
       "    </tr>\n",
       "    <tr>\n",
       "      <th>123516</th>\n",
       "      <td>R80736</td>\n",
       "      <td>-0.945000</td>\n",
       "      <td>26.078333</td>\n",
       "      <td>221.223330</td>\n",
       "      <td>356.653333</td>\n",
       "      <td>46.605001</td>\n",
       "      <td>41.368333</td>\n",
       "      <td>252.618328</td>\n",
       "      <td>32.055000</td>\n",
       "      <td>258.846667</td>\n",
       "      <td>...</td>\n",
       "      <td>MM82</td>\n",
       "      <td>82</td>\n",
       "      <td>90</td>\n",
       "      <td>48.4461,5.5925</td>\n",
       "      <td>411.0</td>\n",
       "      <td>Meuse</td>\n",
       "      <td>Grand Est</td>\n",
       "      <td>46</td>\n",
       "      <td>128</td>\n",
       "      <td>5.281</td>\n",
       "    </tr>\n",
       "    <tr>\n",
       "      <th>123517</th>\n",
       "      <td>R80736</td>\n",
       "      <td>-0.978333</td>\n",
       "      <td>26.230000</td>\n",
       "      <td>200.149998</td>\n",
       "      <td>320.451670</td>\n",
       "      <td>40.838333</td>\n",
       "      <td>39.345001</td>\n",
       "      <td>247.151667</td>\n",
       "      <td>27.226667</td>\n",
       "      <td>243.906668</td>\n",
       "      <td>...</td>\n",
       "      <td>MM82</td>\n",
       "      <td>82</td>\n",
       "      <td>90</td>\n",
       "      <td>48.4461,5.5925</td>\n",
       "      <td>411.0</td>\n",
       "      <td>Meuse</td>\n",
       "      <td>Grand Est</td>\n",
       "      <td>46</td>\n",
       "      <td>128</td>\n",
       "      <td>5.281</td>\n",
       "    </tr>\n",
       "    <tr>\n",
       "      <th>123518</th>\n",
       "      <td>R80736</td>\n",
       "      <td>-0.950000</td>\n",
       "      <td>26.681667</td>\n",
       "      <td>162.736666</td>\n",
       "      <td>250.138337</td>\n",
       "      <td>43.815001</td>\n",
       "      <td>40.493333</td>\n",
       "      <td>234.456665</td>\n",
       "      <td>33.013333</td>\n",
       "      <td>226.355000</td>\n",
       "      <td>...</td>\n",
       "      <td>MM82</td>\n",
       "      <td>82</td>\n",
       "      <td>90</td>\n",
       "      <td>48.4461,5.5925</td>\n",
       "      <td>411.0</td>\n",
       "      <td>Meuse</td>\n",
       "      <td>Grand Est</td>\n",
       "      <td>46</td>\n",
       "      <td>128</td>\n",
       "      <td>5.281</td>\n",
       "    </tr>\n",
       "    <tr>\n",
       "      <th>123519</th>\n",
       "      <td>R80736</td>\n",
       "      <td>-0.980000</td>\n",
       "      <td>26.969999</td>\n",
       "      <td>151.509990</td>\n",
       "      <td>163.720000</td>\n",
       "      <td>47.990002</td>\n",
       "      <td>43.380001</td>\n",
       "      <td>229.640000</td>\n",
       "      <td>36.619999</td>\n",
       "      <td>235.410000</td>\n",
       "      <td>...</td>\n",
       "      <td>MM82</td>\n",
       "      <td>82</td>\n",
       "      <td>90</td>\n",
       "      <td>48.4461,5.5925</td>\n",
       "      <td>411.0</td>\n",
       "      <td>Meuse</td>\n",
       "      <td>Grand Est</td>\n",
       "      <td>46</td>\n",
       "      <td>128</td>\n",
       "      <td>5.281</td>\n",
       "    </tr>\n",
       "  </tbody>\n",
       "</table>\n",
       "<p>123520 rows × 30 columns</p>\n",
       "</div>"
      ],
      "text/plain": [
       "       Wind_turbine_name  Pitch_angle  Hub_temperature  \\\n",
       "0                 R80711    -0.991667        12.650000   \n",
       "1                 R80711    -0.996667        12.393333   \n",
       "2                 R80711    -0.996667        12.168333   \n",
       "3                 R80711    -0.973333        12.088333   \n",
       "4                 R80711    -0.710000        12.331667   \n",
       "...                  ...          ...              ...   \n",
       "123515            R80736    -0.978333        26.043333   \n",
       "123516            R80736    -0.945000        26.078333   \n",
       "123517            R80736    -0.978333        26.230000   \n",
       "123518            R80736    -0.950000        26.681667   \n",
       "123519            R80736    -0.980000        26.969999   \n",
       "\n",
       "        Generator_converter_speed        Power  Generator_temp_1  \\\n",
       "0                        7.528333  1177.314967         38.430000   \n",
       "1                        8.426667  1200.676667         35.816668   \n",
       "2                       18.873333  1092.826665         36.083334   \n",
       "3                       20.880000  1080.954980         38.886667   \n",
       "4                       15.950000  1351.328317         35.290000   \n",
       "...                           ...          ...               ...   \n",
       "123515                 195.215000   447.381663         40.498333   \n",
       "123516                 221.223330   356.653333         46.605001   \n",
       "123517                 200.149998   320.451670         40.838333   \n",
       "123518                 162.736666   250.138337         43.815001   \n",
       "123519                 151.509990   163.720000         47.990002   \n",
       "\n",
       "        Generator_temp_2  Nacelle_angle  Nacelle_temperature  Wind_direction  \\\n",
       "0              38.495001     168.921663            17.480000      170.735000   \n",
       "1              37.553334     177.899990            17.075000      172.179998   \n",
       "2              37.934999     177.899990            17.175000      179.484998   \n",
       "3              38.863334     177.899990            16.761666      177.995000   \n",
       "4              37.085000     175.903325            14.630000      169.683332   \n",
       "...                  ...            ...                  ...             ...   \n",
       "123515         38.661666     241.820002            29.211667      236.643335   \n",
       "123516         41.368333     252.618328            32.055000      258.846667   \n",
       "123517         39.345001     247.151667            27.226667      243.906668   \n",
       "123518         40.493333     234.456665            33.013333      226.355000   \n",
       "123519         43.380001     229.640000            36.619999      235.410000   \n",
       "\n",
       "        ...  Model  Hub height (m)  Rotor diameter (m)             GPS  \\\n",
       "0       ...    NVP             105                  82  48.4569,5.5847   \n",
       "1       ...    NVP             105                  82  48.4569,5.5847   \n",
       "2       ...    NVP             105                  82  48.4569,5.5847   \n",
       "3       ...    NVP             105                  82  48.4569,5.5847   \n",
       "4       ...    NVP             105                  82  48.4569,5.5847   \n",
       "...     ...    ...             ...                 ...             ...   \n",
       "123515  ...   MM82              82                  90  48.4461,5.5925   \n",
       "123516  ...   MM82              82                  90  48.4461,5.5925   \n",
       "123517  ...   MM82              82                  90  48.4461,5.5925   \n",
       "123518  ...   MM82              82                  90  48.4461,5.5925   \n",
       "123519  ...   MM82              82                  90  48.4461,5.5925   \n",
       "\n",
       "        Altitude (m)  Department     Region Length of blades (m)  \\\n",
       "0              400.0       Meuse  Grand Est                   50   \n",
       "1              400.0       Meuse  Grand Est                   50   \n",
       "2              400.0       Meuse  Grand Est                   50   \n",
       "3              400.0       Meuse  Grand Est                   50   \n",
       "4              400.0       Meuse  Grand Est                   50   \n",
       "...              ...         ...        ...                  ...   \n",
       "123515         411.0       Meuse  Grand Est                   46   \n",
       "123516         411.0       Meuse  Grand Est                   46   \n",
       "123517         411.0       Meuse  Grand Est                   46   \n",
       "123518         411.0       Meuse  Grand Est                   46   \n",
       "123519         411.0       Meuse  Grand Est                   46   \n",
       "\n",
       "       Weight (tons) Rotor surface (m2)  \n",
       "0                150              6.348  \n",
       "1                150              6.348  \n",
       "2                150              6.348  \n",
       "3                150              6.348  \n",
       "4                150              6.348  \n",
       "...              ...                ...  \n",
       "123515           128              5.281  \n",
       "123516           128              5.281  \n",
       "123517           128              5.281  \n",
       "123518           128              5.281  \n",
       "123519           128              5.281  \n",
       "\n",
       "[123520 rows x 30 columns]"
      ]
     },
     "execution_count": 11,
     "metadata": {},
     "output_type": "execute_result"
    }
   ],
   "source": [
    "df_train"
   ]
  },
  {
   "cell_type": "code",
   "execution_count": 20,
   "metadata": {},
   "outputs": [
    {
     "name": "stdout",
     "output_type": "stream",
     "text": [
      "<class 'pandas.core.frame.DataFrame'>\n",
      "RangeIndex: 6 entries, 0 to 5\n",
      "Data columns (total 13 columns):\n",
      " #   Column                  Non-Null Count  Dtype  \n",
      "---  ------                  --------------  -----  \n",
      " 0   Wind_turbine_name       6 non-null      object \n",
      " 1   Wind_turbine_long_name  6 non-null      object \n",
      " 2   Manufacturer            6 non-null      object \n",
      " 3   Model                   6 non-null      object \n",
      " 4   Hub height (m)          6 non-null      int64  \n",
      " 5   Rotor diameter (m)      6 non-null      int64  \n",
      " 6   GPS                     6 non-null      object \n",
      " 7   Altitude (m)            6 non-null      float64\n",
      " 8   Department              6 non-null      object \n",
      " 9   Region                  5 non-null      object \n",
      " 10  Length of blades (m)    6 non-null      int64  \n",
      " 11  Weight (tons)           6 non-null      int64  \n",
      " 12  Rotor surface (m2)      6 non-null      float64\n",
      "dtypes: float64(2), int64(4), object(7)\n",
      "memory usage: 752.0+ bytes\n"
     ]
    }
   ],
   "source": [
    "infos.info()"
   ]
  },
  {
   "cell_type": "code",
   "execution_count": null,
   "metadata": {
    "deletable": false,
    "editable": false,
    "run_control": {
     "frozen": true
    }
   },
   "outputs": [],
   "source": [
    "df_all = pd.merge(df, infos, on=[liste_variables])"
   ]
  },
  {
   "cell_type": "markdown",
   "metadata": {
    "deletable": false,
    "editable": false,
    "run_control": {
     "frozen": true
    }
   },
   "source": [
    "> Il est maintenant l'heure d'appliquer votre modèle. Pour cette première implémentation, nous conseillons d'utiliser le modèle `LinearRegression()` disponible depuis la bibliothèque sicket-learn. \n",
    ">\n",
    "> La première étape est de séparer les variables explicatives de la variable cible **'Power'**."
   ]
  },
  {
   "cell_type": "code",
   "execution_count": 15,
   "metadata": {},
   "outputs": [],
   "source": [
    "## Insérez votre code ici\n",
    "from sklearn.linear_model import LinearRegression\n",
    "from sklearn.model_selection import train_test_split"
   ]
  },
  {
   "cell_type": "code",
   "execution_count": 16,
   "metadata": {},
   "outputs": [],
   "source": [
    "X_train =df_train.drop('Power', axis=1)\n",
    "y_train = df_train['Power']"
   ]
  },
  {
   "cell_type": "code",
   "execution_count": null,
   "metadata": {
    "deletable": false,
    "editable": false,
    "run_control": {
     "frozen": true
    }
   },
   "outputs": [],
   "source": [
    "X_train = train.drop('Power', axis=1)\n",
    "\n",
    "y_train = train['Power']"
   ]
  },
  {
   "cell_type": "code",
   "execution_count": 22,
   "metadata": {},
   "outputs": [],
   "source": [
    "# Je transforme les variables catégorielles strings en dummies\n",
    "\n",
    "dummies = pd.get_dummies(X_train[['Wind_turbine_name', 'Wind_turbine_long_name', 'Manufacturer', \n",
    "                                 'Model', 'Department', 'Region']])"
   ]
  },
  {
   "cell_type": "code",
   "execution_count": 25,
   "metadata": {},
   "outputs": [
    {
     "ename": "ValueError",
     "evalue": "columns overlap but no suffix specified: Index(['Wind_turbine_name_R80711', 'Wind_turbine_name_R80721',\n       'Wind_turbine_name_R80736', 'Wind_turbine_name_R80790',\n       'Wind_turbine_long_name_FRHBO_E01_80711',\n       'Wind_turbine_long_name_FRHBO_E02_80790',\n       'Wind_turbine_long_name_FRHBO_E03_80721',\n       'Wind_turbine_long_name_FRHBO_E04_80736', 'Manufacturer_EOLYS',\n       'Manufacturer_NENUPHAR', 'Manufacturer_SENVION', 'Manufacturer_VERGNET',\n       'Model_EL80', 'Model_MM82', 'Model_MPC-V', 'Model_NVP',\n       'Department_Meuse', 'Region_Grand Est'],\n      dtype='object')",
     "output_type": "error",
     "traceback": [
      "\u001b[1;31m---------------------------------------------------------------------------\u001b[0m",
      "\u001b[1;31mValueError\u001b[0m                                Traceback (most recent call last)",
      "\u001b[1;32m~\\AppData\\Local\\Temp\\ipykernel_10128\\1618330835.py\u001b[0m in \u001b[0;36m<module>\u001b[1;34m\u001b[0m\n\u001b[1;32m----> 1\u001b[1;33m \u001b[0mX_train\u001b[0m \u001b[1;33m=\u001b[0m \u001b[0mX_train\u001b[0m\u001b[1;33m.\u001b[0m\u001b[0mjoin\u001b[0m\u001b[1;33m(\u001b[0m\u001b[0mdummies\u001b[0m\u001b[1;33m)\u001b[0m\u001b[1;33m\u001b[0m\u001b[1;33m\u001b[0m\u001b[0m\n\u001b[0m\u001b[0;32m      2\u001b[0m X_train.drop(['Wind_turbine_name', 'Wind_turbine_long_name', 'Manufacturer', \n\u001b[0;32m      3\u001b[0m                                  'Model', 'Department', 'Region'], axis=1)\n",
      "\u001b[1;32mC:\\ProgramData\\Anaconda3\\lib\\site-packages\\pandas\\core\\frame.py\u001b[0m in \u001b[0;36mjoin\u001b[1;34m(self, other, on, how, lsuffix, rsuffix, sort)\u001b[0m\n\u001b[0;32m   9261\u001b[0m         \u001b[1;36m5\u001b[0m  \u001b[0mK1\u001b[0m  \u001b[0mA5\u001b[0m   \u001b[0mB1\u001b[0m\u001b[1;33m\u001b[0m\u001b[1;33m\u001b[0m\u001b[0m\n\u001b[0;32m   9262\u001b[0m         \"\"\"\n\u001b[1;32m-> 9263\u001b[1;33m         return self._join_compat(\n\u001b[0m\u001b[0;32m   9264\u001b[0m             \u001b[0mother\u001b[0m\u001b[1;33m,\u001b[0m \u001b[0mon\u001b[0m\u001b[1;33m=\u001b[0m\u001b[0mon\u001b[0m\u001b[1;33m,\u001b[0m \u001b[0mhow\u001b[0m\u001b[1;33m=\u001b[0m\u001b[0mhow\u001b[0m\u001b[1;33m,\u001b[0m \u001b[0mlsuffix\u001b[0m\u001b[1;33m=\u001b[0m\u001b[0mlsuffix\u001b[0m\u001b[1;33m,\u001b[0m \u001b[0mrsuffix\u001b[0m\u001b[1;33m=\u001b[0m\u001b[0mrsuffix\u001b[0m\u001b[1;33m,\u001b[0m \u001b[0msort\u001b[0m\u001b[1;33m=\u001b[0m\u001b[0msort\u001b[0m\u001b[1;33m\u001b[0m\u001b[1;33m\u001b[0m\u001b[0m\n\u001b[0;32m   9265\u001b[0m         )\n",
      "\u001b[1;32mC:\\ProgramData\\Anaconda3\\lib\\site-packages\\pandas\\core\\frame.py\u001b[0m in \u001b[0;36m_join_compat\u001b[1;34m(self, other, on, how, lsuffix, rsuffix, sort)\u001b[0m\n\u001b[0;32m   9292\u001b[0m                     \u001b[0msort\u001b[0m\u001b[1;33m=\u001b[0m\u001b[0msort\u001b[0m\u001b[1;33m,\u001b[0m\u001b[1;33m\u001b[0m\u001b[1;33m\u001b[0m\u001b[0m\n\u001b[0;32m   9293\u001b[0m                 )\n\u001b[1;32m-> 9294\u001b[1;33m             return merge(\n\u001b[0m\u001b[0;32m   9295\u001b[0m                 \u001b[0mself\u001b[0m\u001b[1;33m,\u001b[0m\u001b[1;33m\u001b[0m\u001b[1;33m\u001b[0m\u001b[0m\n\u001b[0;32m   9296\u001b[0m                 \u001b[0mother\u001b[0m\u001b[1;33m,\u001b[0m\u001b[1;33m\u001b[0m\u001b[1;33m\u001b[0m\u001b[0m\n",
      "\u001b[1;32mC:\\ProgramData\\Anaconda3\\lib\\site-packages\\pandas\\core\\reshape\\merge.py\u001b[0m in \u001b[0;36mmerge\u001b[1;34m(left, right, how, on, left_on, right_on, left_index, right_index, sort, suffixes, copy, indicator, validate)\u001b[0m\n\u001b[0;32m    120\u001b[0m         \u001b[0mvalidate\u001b[0m\u001b[1;33m=\u001b[0m\u001b[0mvalidate\u001b[0m\u001b[1;33m,\u001b[0m\u001b[1;33m\u001b[0m\u001b[1;33m\u001b[0m\u001b[0m\n\u001b[0;32m    121\u001b[0m     )\n\u001b[1;32m--> 122\u001b[1;33m     \u001b[1;32mreturn\u001b[0m \u001b[0mop\u001b[0m\u001b[1;33m.\u001b[0m\u001b[0mget_result\u001b[0m\u001b[1;33m(\u001b[0m\u001b[1;33m)\u001b[0m\u001b[1;33m\u001b[0m\u001b[1;33m\u001b[0m\u001b[0m\n\u001b[0m\u001b[0;32m    123\u001b[0m \u001b[1;33m\u001b[0m\u001b[0m\n\u001b[0;32m    124\u001b[0m \u001b[1;33m\u001b[0m\u001b[0m\n",
      "\u001b[1;32mC:\\ProgramData\\Anaconda3\\lib\\site-packages\\pandas\\core\\reshape\\merge.py\u001b[0m in \u001b[0;36mget_result\u001b[1;34m(self)\u001b[0m\n\u001b[0;32m    716\u001b[0m         \u001b[0mjoin_index\u001b[0m\u001b[1;33m,\u001b[0m \u001b[0mleft_indexer\u001b[0m\u001b[1;33m,\u001b[0m \u001b[0mright_indexer\u001b[0m \u001b[1;33m=\u001b[0m \u001b[0mself\u001b[0m\u001b[1;33m.\u001b[0m\u001b[0m_get_join_info\u001b[0m\u001b[1;33m(\u001b[0m\u001b[1;33m)\u001b[0m\u001b[1;33m\u001b[0m\u001b[1;33m\u001b[0m\u001b[0m\n\u001b[0;32m    717\u001b[0m \u001b[1;33m\u001b[0m\u001b[0m\n\u001b[1;32m--> 718\u001b[1;33m         llabels, rlabels = _items_overlap_with_suffix(\n\u001b[0m\u001b[0;32m    719\u001b[0m             \u001b[0mself\u001b[0m\u001b[1;33m.\u001b[0m\u001b[0mleft\u001b[0m\u001b[1;33m.\u001b[0m\u001b[0m_info_axis\u001b[0m\u001b[1;33m,\u001b[0m \u001b[0mself\u001b[0m\u001b[1;33m.\u001b[0m\u001b[0mright\u001b[0m\u001b[1;33m.\u001b[0m\u001b[0m_info_axis\u001b[0m\u001b[1;33m,\u001b[0m \u001b[0mself\u001b[0m\u001b[1;33m.\u001b[0m\u001b[0msuffixes\u001b[0m\u001b[1;33m\u001b[0m\u001b[1;33m\u001b[0m\u001b[0m\n\u001b[0;32m    720\u001b[0m         )\n",
      "\u001b[1;32mC:\\ProgramData\\Anaconda3\\lib\\site-packages\\pandas\\core\\reshape\\merge.py\u001b[0m in \u001b[0;36m_items_overlap_with_suffix\u001b[1;34m(left, right, suffixes)\u001b[0m\n\u001b[0;32m   2315\u001b[0m \u001b[1;33m\u001b[0m\u001b[0m\n\u001b[0;32m   2316\u001b[0m     \u001b[1;32mif\u001b[0m \u001b[1;32mnot\u001b[0m \u001b[0mlsuffix\u001b[0m \u001b[1;32mand\u001b[0m \u001b[1;32mnot\u001b[0m \u001b[0mrsuffix\u001b[0m\u001b[1;33m:\u001b[0m\u001b[1;33m\u001b[0m\u001b[1;33m\u001b[0m\u001b[0m\n\u001b[1;32m-> 2317\u001b[1;33m         \u001b[1;32mraise\u001b[0m \u001b[0mValueError\u001b[0m\u001b[1;33m(\u001b[0m\u001b[1;34mf\"columns overlap but no suffix specified: {to_rename}\"\u001b[0m\u001b[1;33m)\u001b[0m\u001b[1;33m\u001b[0m\u001b[1;33m\u001b[0m\u001b[0m\n\u001b[0m\u001b[0;32m   2318\u001b[0m \u001b[1;33m\u001b[0m\u001b[0m\n\u001b[0;32m   2319\u001b[0m     \u001b[1;32mdef\u001b[0m \u001b[0mrenamer\u001b[0m\u001b[1;33m(\u001b[0m\u001b[0mx\u001b[0m\u001b[1;33m,\u001b[0m \u001b[0msuffix\u001b[0m\u001b[1;33m)\u001b[0m\u001b[1;33m:\u001b[0m\u001b[1;33m\u001b[0m\u001b[1;33m\u001b[0m\u001b[0m\n",
      "\u001b[1;31mValueError\u001b[0m: columns overlap but no suffix specified: Index(['Wind_turbine_name_R80711', 'Wind_turbine_name_R80721',\n       'Wind_turbine_name_R80736', 'Wind_turbine_name_R80790',\n       'Wind_turbine_long_name_FRHBO_E01_80711',\n       'Wind_turbine_long_name_FRHBO_E02_80790',\n       'Wind_turbine_long_name_FRHBO_E03_80721',\n       'Wind_turbine_long_name_FRHBO_E04_80736', 'Manufacturer_EOLYS',\n       'Manufacturer_NENUPHAR', 'Manufacturer_SENVION', 'Manufacturer_VERGNET',\n       'Model_EL80', 'Model_MM82', 'Model_MPC-V', 'Model_NVP',\n       'Department_Meuse', 'Region_Grand Est'],\n      dtype='object')"
     ]
    }
   ],
   "source": [
    "X_train = X_train.join(dummies)\n"
   ]
  },
  {
   "cell_type": "code",
   "execution_count": 31,
   "metadata": {},
   "outputs": [
    {
     "ename": "KeyError",
     "evalue": "\"['Wind_turbine_name', 'Wind_turbine_long_name', 'Manufacturer', 'Model', 'Department', 'Region'] not found in axis\"",
     "output_type": "error",
     "traceback": [
      "\u001b[1;31m---------------------------------------------------------------------------\u001b[0m",
      "\u001b[1;31mKeyError\u001b[0m                                  Traceback (most recent call last)",
      "\u001b[1;32m~\\AppData\\Local\\Temp\\ipykernel_10128\\168543134.py\u001b[0m in \u001b[0;36m<module>\u001b[1;34m\u001b[0m\n\u001b[1;32m----> 1\u001b[1;33m X_train = X_train.drop(['Wind_turbine_name', 'Wind_turbine_long_name', 'Manufacturer', \n\u001b[0m\u001b[0;32m      2\u001b[0m                                  'Model', 'Department', 'Region', 'date'], axis=1)\n",
      "\u001b[1;32mC:\\ProgramData\\Anaconda3\\lib\\site-packages\\pandas\\util\\_decorators.py\u001b[0m in \u001b[0;36mwrapper\u001b[1;34m(*args, **kwargs)\u001b[0m\n\u001b[0;32m    309\u001b[0m                     \u001b[0mstacklevel\u001b[0m\u001b[1;33m=\u001b[0m\u001b[0mstacklevel\u001b[0m\u001b[1;33m,\u001b[0m\u001b[1;33m\u001b[0m\u001b[1;33m\u001b[0m\u001b[0m\n\u001b[0;32m    310\u001b[0m                 )\n\u001b[1;32m--> 311\u001b[1;33m             \u001b[1;32mreturn\u001b[0m \u001b[0mfunc\u001b[0m\u001b[1;33m(\u001b[0m\u001b[1;33m*\u001b[0m\u001b[0margs\u001b[0m\u001b[1;33m,\u001b[0m \u001b[1;33m**\u001b[0m\u001b[0mkwargs\u001b[0m\u001b[1;33m)\u001b[0m\u001b[1;33m\u001b[0m\u001b[1;33m\u001b[0m\u001b[0m\n\u001b[0m\u001b[0;32m    312\u001b[0m \u001b[1;33m\u001b[0m\u001b[0m\n\u001b[0;32m    313\u001b[0m         \u001b[1;32mreturn\u001b[0m \u001b[0mwrapper\u001b[0m\u001b[1;33m\u001b[0m\u001b[1;33m\u001b[0m\u001b[0m\n",
      "\u001b[1;32mC:\\ProgramData\\Anaconda3\\lib\\site-packages\\pandas\\core\\frame.py\u001b[0m in \u001b[0;36mdrop\u001b[1;34m(self, labels, axis, index, columns, level, inplace, errors)\u001b[0m\n\u001b[0;32m   4955\u001b[0m                 \u001b[0mweight\u001b[0m  \u001b[1;36m1.0\u001b[0m     \u001b[1;36m0.8\u001b[0m\u001b[1;33m\u001b[0m\u001b[1;33m\u001b[0m\u001b[0m\n\u001b[0;32m   4956\u001b[0m         \"\"\"\n\u001b[1;32m-> 4957\u001b[1;33m         return super().drop(\n\u001b[0m\u001b[0;32m   4958\u001b[0m             \u001b[0mlabels\u001b[0m\u001b[1;33m=\u001b[0m\u001b[0mlabels\u001b[0m\u001b[1;33m,\u001b[0m\u001b[1;33m\u001b[0m\u001b[1;33m\u001b[0m\u001b[0m\n\u001b[0;32m   4959\u001b[0m             \u001b[0maxis\u001b[0m\u001b[1;33m=\u001b[0m\u001b[0maxis\u001b[0m\u001b[1;33m,\u001b[0m\u001b[1;33m\u001b[0m\u001b[1;33m\u001b[0m\u001b[0m\n",
      "\u001b[1;32mC:\\ProgramData\\Anaconda3\\lib\\site-packages\\pandas\\core\\generic.py\u001b[0m in \u001b[0;36mdrop\u001b[1;34m(self, labels, axis, index, columns, level, inplace, errors)\u001b[0m\n\u001b[0;32m   4265\u001b[0m         \u001b[1;32mfor\u001b[0m \u001b[0maxis\u001b[0m\u001b[1;33m,\u001b[0m \u001b[0mlabels\u001b[0m \u001b[1;32min\u001b[0m \u001b[0maxes\u001b[0m\u001b[1;33m.\u001b[0m\u001b[0mitems\u001b[0m\u001b[1;33m(\u001b[0m\u001b[1;33m)\u001b[0m\u001b[1;33m:\u001b[0m\u001b[1;33m\u001b[0m\u001b[1;33m\u001b[0m\u001b[0m\n\u001b[0;32m   4266\u001b[0m             \u001b[1;32mif\u001b[0m \u001b[0mlabels\u001b[0m \u001b[1;32mis\u001b[0m \u001b[1;32mnot\u001b[0m \u001b[1;32mNone\u001b[0m\u001b[1;33m:\u001b[0m\u001b[1;33m\u001b[0m\u001b[1;33m\u001b[0m\u001b[0m\n\u001b[1;32m-> 4267\u001b[1;33m                 \u001b[0mobj\u001b[0m \u001b[1;33m=\u001b[0m \u001b[0mobj\u001b[0m\u001b[1;33m.\u001b[0m\u001b[0m_drop_axis\u001b[0m\u001b[1;33m(\u001b[0m\u001b[0mlabels\u001b[0m\u001b[1;33m,\u001b[0m \u001b[0maxis\u001b[0m\u001b[1;33m,\u001b[0m \u001b[0mlevel\u001b[0m\u001b[1;33m=\u001b[0m\u001b[0mlevel\u001b[0m\u001b[1;33m,\u001b[0m \u001b[0merrors\u001b[0m\u001b[1;33m=\u001b[0m\u001b[0merrors\u001b[0m\u001b[1;33m)\u001b[0m\u001b[1;33m\u001b[0m\u001b[1;33m\u001b[0m\u001b[0m\n\u001b[0m\u001b[0;32m   4268\u001b[0m \u001b[1;33m\u001b[0m\u001b[0m\n\u001b[0;32m   4269\u001b[0m         \u001b[1;32mif\u001b[0m \u001b[0minplace\u001b[0m\u001b[1;33m:\u001b[0m\u001b[1;33m\u001b[0m\u001b[1;33m\u001b[0m\u001b[0m\n",
      "\u001b[1;32mC:\\ProgramData\\Anaconda3\\lib\\site-packages\\pandas\\core\\generic.py\u001b[0m in \u001b[0;36m_drop_axis\u001b[1;34m(self, labels, axis, level, errors, consolidate, only_slice)\u001b[0m\n\u001b[0;32m   4309\u001b[0m                 \u001b[0mnew_axis\u001b[0m \u001b[1;33m=\u001b[0m \u001b[0maxis\u001b[0m\u001b[1;33m.\u001b[0m\u001b[0mdrop\u001b[0m\u001b[1;33m(\u001b[0m\u001b[0mlabels\u001b[0m\u001b[1;33m,\u001b[0m \u001b[0mlevel\u001b[0m\u001b[1;33m=\u001b[0m\u001b[0mlevel\u001b[0m\u001b[1;33m,\u001b[0m \u001b[0merrors\u001b[0m\u001b[1;33m=\u001b[0m\u001b[0merrors\u001b[0m\u001b[1;33m)\u001b[0m\u001b[1;33m\u001b[0m\u001b[1;33m\u001b[0m\u001b[0m\n\u001b[0;32m   4310\u001b[0m             \u001b[1;32melse\u001b[0m\u001b[1;33m:\u001b[0m\u001b[1;33m\u001b[0m\u001b[1;33m\u001b[0m\u001b[0m\n\u001b[1;32m-> 4311\u001b[1;33m                 \u001b[0mnew_axis\u001b[0m \u001b[1;33m=\u001b[0m \u001b[0maxis\u001b[0m\u001b[1;33m.\u001b[0m\u001b[0mdrop\u001b[0m\u001b[1;33m(\u001b[0m\u001b[0mlabels\u001b[0m\u001b[1;33m,\u001b[0m \u001b[0merrors\u001b[0m\u001b[1;33m=\u001b[0m\u001b[0merrors\u001b[0m\u001b[1;33m)\u001b[0m\u001b[1;33m\u001b[0m\u001b[1;33m\u001b[0m\u001b[0m\n\u001b[0m\u001b[0;32m   4312\u001b[0m             \u001b[0mindexer\u001b[0m \u001b[1;33m=\u001b[0m \u001b[0maxis\u001b[0m\u001b[1;33m.\u001b[0m\u001b[0mget_indexer\u001b[0m\u001b[1;33m(\u001b[0m\u001b[0mnew_axis\u001b[0m\u001b[1;33m)\u001b[0m\u001b[1;33m\u001b[0m\u001b[1;33m\u001b[0m\u001b[0m\n\u001b[0;32m   4313\u001b[0m \u001b[1;33m\u001b[0m\u001b[0m\n",
      "\u001b[1;32mC:\\ProgramData\\Anaconda3\\lib\\site-packages\\pandas\\core\\indexes\\base.py\u001b[0m in \u001b[0;36mdrop\u001b[1;34m(self, labels, errors)\u001b[0m\n\u001b[0;32m   6659\u001b[0m         \u001b[1;32mif\u001b[0m \u001b[0mmask\u001b[0m\u001b[1;33m.\u001b[0m\u001b[0many\u001b[0m\u001b[1;33m(\u001b[0m\u001b[1;33m)\u001b[0m\u001b[1;33m:\u001b[0m\u001b[1;33m\u001b[0m\u001b[1;33m\u001b[0m\u001b[0m\n\u001b[0;32m   6660\u001b[0m             \u001b[1;32mif\u001b[0m \u001b[0merrors\u001b[0m \u001b[1;33m!=\u001b[0m \u001b[1;34m\"ignore\"\u001b[0m\u001b[1;33m:\u001b[0m\u001b[1;33m\u001b[0m\u001b[1;33m\u001b[0m\u001b[0m\n\u001b[1;32m-> 6661\u001b[1;33m                 \u001b[1;32mraise\u001b[0m \u001b[0mKeyError\u001b[0m\u001b[1;33m(\u001b[0m\u001b[1;34mf\"{list(labels[mask])} not found in axis\"\u001b[0m\u001b[1;33m)\u001b[0m\u001b[1;33m\u001b[0m\u001b[1;33m\u001b[0m\u001b[0m\n\u001b[0m\u001b[0;32m   6662\u001b[0m             \u001b[0mindexer\u001b[0m \u001b[1;33m=\u001b[0m \u001b[0mindexer\u001b[0m\u001b[1;33m[\u001b[0m\u001b[1;33m~\u001b[0m\u001b[0mmask\u001b[0m\u001b[1;33m]\u001b[0m\u001b[1;33m\u001b[0m\u001b[1;33m\u001b[0m\u001b[0m\n\u001b[0;32m   6663\u001b[0m         \u001b[1;32mreturn\u001b[0m \u001b[0mself\u001b[0m\u001b[1;33m.\u001b[0m\u001b[0mdelete\u001b[0m\u001b[1;33m(\u001b[0m\u001b[0mindexer\u001b[0m\u001b[1;33m)\u001b[0m\u001b[1;33m\u001b[0m\u001b[1;33m\u001b[0m\u001b[0m\n",
      "\u001b[1;31mKeyError\u001b[0m: \"['Wind_turbine_name', 'Wind_turbine_long_name', 'Manufacturer', 'Model', 'Department', 'Region'] not found in axis\""
     ]
    }
   ],
   "source": [
    "X_train = X_train.drop(['Wind_turbine_name', 'Wind_turbine_long_name', 'Manufacturer', \n",
    "                                 'Model', 'Department', 'Region', 'date'], axis=1)"
   ]
  },
  {
   "cell_type": "code",
   "execution_count": 34,
   "metadata": {},
   "outputs": [
    {
     "data": {
      "text/plain": [
       "'2013-01-01 07:00:00+01:00'"
      ]
     },
     "execution_count": 34,
     "metadata": {},
     "output_type": "execute_result"
    }
   ],
   "source": [
    "X_train['date'][8]"
   ]
  },
  {
   "cell_type": "code",
   "execution_count": 36,
   "metadata": {},
   "outputs": [],
   "source": [
    "X_train['date'] = X_train ['date'].apply(lambda x : x[0:-15])"
   ]
  },
  {
   "cell_type": "code",
   "execution_count": 45,
   "metadata": {},
   "outputs": [
    {
     "data": {
      "text/plain": [
       "0        2012-12-31\n",
       "1        2013-01-01\n",
       "2        2013-01-01\n",
       "3        2013-01-01\n",
       "4        2013-01-01\n",
       "            ...    \n",
       "123515   2016-07-12\n",
       "123516   2016-07-12\n",
       "123517   2016-07-12\n",
       "123518   2016-07-12\n",
       "123519   2016-07-12\n",
       "Name: date, Length: 123520, dtype: datetime64[ns]"
      ]
     },
     "execution_count": 45,
     "metadata": {},
     "output_type": "execute_result"
    }
   ],
   "source": [
    "\n",
    "pd.to_datetime(X_train['date'])\n"
   ]
  },
  {
   "cell_type": "code",
   "execution_count": 48,
   "metadata": {},
   "outputs": [],
   "source": [
    "X_train['year'] = pd.to_datetime(X_train['date']).dt.year\n",
    "X_train['month'] = pd.to_datetime(X_train['date']).dt.month\n",
    "X_train['day'] = pd.to_datetime(X_train['date']).dt.day"
   ]
  },
  {
   "cell_type": "code",
   "execution_count": 51,
   "metadata": {},
   "outputs": [],
   "source": [
    "X_train = X_train.drop('date', axis=1)"
   ]
  },
  {
   "cell_type": "code",
   "execution_count": 54,
   "metadata": {},
   "outputs": [],
   "source": [
    "X_train['lat'] = X_train['GPS'].apply(lambda x : float(x.split(',')[0]))"
   ]
  },
  {
   "cell_type": "code",
   "execution_count": 55,
   "metadata": {},
   "outputs": [],
   "source": [
    "X_train['long'] = X_train['GPS'].apply(lambda x : float(x.split(',')[1]))"
   ]
  },
  {
   "cell_type": "code",
   "execution_count": 56,
   "metadata": {},
   "outputs": [],
   "source": [
    "X_train = X_train.drop('GPS', axis=1)"
   ]
  },
  {
   "cell_type": "code",
   "execution_count": 78,
   "metadata": {},
   "outputs": [],
   "source": [
    "from sklearn import preprocessing\n",
    "\n",
    "X_train_scaled = preprocessing.scale(X_train)"
   ]
  },
  {
   "cell_type": "markdown",
   "metadata": {
    "deletable": false,
    "editable": false,
    "run_control": {
     "frozen": true
    }
   },
   "source": [
    "> Par la suite, nous entrainons notre modèle."
   ]
  },
  {
   "cell_type": "code",
   "execution_count": 79,
   "metadata": {},
   "outputs": [
    {
     "data": {
      "text/plain": [
       "60358.93379100485"
      ]
     },
     "execution_count": 79,
     "metadata": {},
     "output_type": "execute_result"
    }
   ],
   "source": [
    "## Insérez votre code ici\n",
    "from sklearn.metrics import mean_squared_error\n",
    "reg = LinearRegression()\n",
    "reg.fit(X_train_scaled, y_train)\n",
    "reg.score(X_train_scaled, y_train)\n",
    "mean_squared_error(y_train,reg.predict(X_train_scaled))\n"
   ]
  },
  {
   "cell_type": "code",
   "execution_count": 81,
   "metadata": {},
   "outputs": [
    {
     "data": {
      "text/plain": [
       "2595.3803173082333"
      ]
     },
     "execution_count": 81,
     "metadata": {},
     "output_type": "execute_result"
    }
   ],
   "source": [
    "from sklearn.ensemble import RandomForestRegressor\n",
    "model_rf = RandomForestRegressor()\n",
    "model_rf.fit(X_train_scaled, y_train)\n",
    "model_rf.score(X_train_scaled, y_train)\n",
    "mean_squared_error(y_train,model_rf.predict(X_train_scaled))\n"
   ]
  },
  {
   "cell_type": "code",
   "execution_count": null,
   "metadata": {},
   "outputs": [],
   "source": []
  },
  {
   "cell_type": "code",
   "execution_count": null,
   "metadata": {},
   "outputs": [],
   "source": []
  },
  {
   "cell_type": "code",
   "execution_count": null,
   "metadata": {
    "deletable": false,
    "editable": false,
    "run_control": {
     "frozen": true
    }
   },
   "outputs": [],
   "source": [
    "from sklearn.linear_model import LinearRegression\n",
    "\n",
    "reg = LinearRegression()  # Instanciation du modèle\n",
    "\n",
    "reg.fit(X_train, y_train)  # Ajustement sur les données d'entrainements\n",
    "\n",
    "reg.score(X_train, y_train)  # Score sur les données test"
   ]
  },
  {
   "cell_type": "markdown",
   "metadata": {
    "deletable": false,
    "editable": false,
    "run_control": {
     "frozen": true
    }
   },
   "source": [
    "> Vous pouvez à présent tester vos prédictions sur la métrique du challenge ! "
   ]
  },
  {
   "cell_type": "code",
   "execution_count": null,
   "metadata": {},
   "outputs": [],
   "source": [
    "## Insérez votre code ici\n",
    "\n"
   ]
  },
  {
   "cell_type": "code",
   "execution_count": 82,
   "metadata": {},
   "outputs": [],
   "source": [
    "def transform(X):\n",
    "    df = pd.merge(X, infos, on='Wind_turbine_name')\n",
    "    dummies = pd.get_dummies(df[['Wind_turbine_name', 'Wind_turbine_long_name', 'Manufacturer', \n",
    "                                 'Model', 'Department', 'Region']])\n",
    "    df = df.join(dummies)\n",
    "    df['date'] = df['date'].apply(lambda x : x[0:-15])\n",
    "    df['year'] = pd.to_datetime(df['date']).dt.year\n",
    "    df['month'] = pd.to_datetime(df['date']).dt.month\n",
    "    df['day'] = pd.to_datetime(df['date']).dt.day\n",
    "    df['lat'] = df['GPS'].apply(lambda x : float(x.split(',')[0]))\n",
    "    df['long'] = df['GPS'].apply(lambda x : float(x.split(',')[1]))\n",
    "    df = df.drop(['Wind_turbine_name', 'Wind_turbine_long_name', 'Manufacturer', \n",
    "                                 'Model', 'Department', 'Region', 'date', 'GPS', 'Vanne_position_1', 'Vanne_position_2'], axis=1)\n",
    "    df = preprocessing.scale(df)\n",
    "    return df"
   ]
  },
  {
   "cell_type": "code",
   "execution_count": 86,
   "metadata": {},
   "outputs": [],
   "source": [
    "test2 = transform(test)"
   ]
  },
  {
   "cell_type": "code",
   "execution_count": 87,
   "metadata": {},
   "outputs": [
    {
     "data": {
      "text/plain": [
       "array([[-0.54537142,  0.90991881,  0.74068921, ...,  0.        ,\n",
       "         1.31144608, -1.12159942],\n",
       "       [-0.54537142,  0.90991881,  0.3972633 , ...,  0.        ,\n",
       "         1.31144608, -1.12159942],\n",
       "       [-0.54310037,  0.90991881,  0.31683374, ...,  0.        ,\n",
       "         1.31144608, -1.12159942],\n",
       "       ...,\n",
       "       [-0.5425326 , -0.8878137 , -0.62546832, ...,  0.        ,\n",
       "         0.49871893, -0.14019993],\n",
       "       [-0.32117556, -0.8878137 ,  0.47459097, ...,  0.        ,\n",
       "         0.49871893, -0.14019993],\n",
       "       [ 1.41256322, -0.8878137 , -0.90850711, ...,  0.        ,\n",
       "         0.49871893, -0.14019993]])"
      ]
     },
     "execution_count": 87,
     "metadata": {},
     "output_type": "execute_result"
    }
   ],
   "source": [
    "test2"
   ]
  },
  {
   "cell_type": "code",
   "execution_count": 88,
   "metadata": {},
   "outputs": [],
   "source": [
    "y_pred = model_rf.predict(test2)\n"
   ]
  },
  {
   "cell_type": "code",
   "execution_count": 58,
   "metadata": {
    "deletable": false,
    "editable": false,
    "run_control": {
     "frozen": true
    }
   },
   "outputs": [],
   "source": [
    "test = pd.read_csv('test_set.csv') # Sur lequel appliquer le même pre processing \n",
    "\n",
    "def export_csv(X_test, model):\n",
    "    import pandas as pd\n",
    "    y_pred = pd.DataFrame(model.predict(X_test), columns=[\"y_pred\"])\n",
    "    return y_pred.to_csv(\"y_pred.csv\", index=False)"
   ]
  },
  {
   "cell_type": "code",
   "execution_count": 89,
   "metadata": {},
   "outputs": [],
   "source": [
    "export_csv(test2, model_rf)"
   ]
  },
  {
   "cell_type": "markdown",
   "metadata": {
    "deletable": false,
    "editable": false,
    "run_control": {
     "frozen": true
    }
   },
   "source": [
    "> Il ne vous reste plus qu'à uploader vos prédictions sur la plateforme du challenge. Bon courage ! "
   ]
  }
 ],
 "metadata": {
  "kernelspec": {
   "display_name": "Python 3 (ipykernel)",
   "language": "python",
   "name": "python3"
  },
  "language_info": {
   "codemirror_mode": {
    "name": "ipython",
    "version": 3
   },
   "file_extension": ".py",
   "mimetype": "text/x-python",
   "name": "python",
   "nbconvert_exporter": "python",
   "pygments_lexer": "ipython3",
   "version": "3.9.13"
  }
 },
 "nbformat": 4,
 "nbformat_minor": 4
}
